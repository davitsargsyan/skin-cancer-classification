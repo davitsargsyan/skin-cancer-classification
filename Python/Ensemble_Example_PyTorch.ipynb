{
 "cells": [
  {
   "cell_type": "code",
   "execution_count": 0,
   "metadata": {
    "colab": {},
    "colab_type": "code",
    "id": "N64mpEXsL5pb"
   },
   "outputs": [],
   "source": [
    "class EnsembleArmNet(nn.Module):\n",
    "    def __init__(self, modelA, modelB, modelC):\n",
    "        super(EnsembleArmNet, self).__init__()\n",
    "        self.modelA = modelA\n",
    "        self.modelB = modelB\n",
    "        self.modelC = modelC\n",
    "        self.softmax = nn.Softmax(dim=1)\n",
    "        \n",
    "    def forward(self, x1, x2, x3):\n",
    "        x1 = self.modelA(x1)\n",
    "        x2 = self.modelB(x2)\n",
    "        x3 = self.modelC(x2)\n",
    "        x = x1 + x2 + x3\n",
    "        x = x / 3\n",
    "        x = self.softmax(x)\n",
    "        return x\n",
    "\n",
    "# Create models and load state_dicts    \n",
    "modelA = MyModelA()\n",
    "modelB = MyModelB()\n",
    "modelC = MyModelC()\n",
    "# Load state dicts\n",
    "modelA.load_state_dict(torch.load(PATH))\n",
    "modelB.load_state_dict(torch.load(PATH))\n",
    "modelC.load_state_dict(torch.load(PATH))\n",
    "\n",
    "model = MyEnsemble(modelA, modelB, modelC)\n",
    "x1, x2 = torch.randn(1, 10), torch.randn(1, 20)\n",
    "output = model(x1, x2, x3)"
   ]
  }
 ],
 "metadata": {
  "colab": {
   "collapsed_sections": [],
   "name": "EnsembleArmNet.ipynb",
   "provenance": []
  },
  "kernelspec": {
   "display_name": "Python 3",
   "language": "python",
   "name": "python3"
  },
  "language_info": {
   "codemirror_mode": {
    "name": "ipython",
    "version": 3
   },
   "file_extension": ".py",
   "mimetype": "text/x-python",
   "name": "python",
   "nbconvert_exporter": "python",
   "pygments_lexer": "ipython3",
   "version": "3.7.6"
  }
 },
 "nbformat": 4,
 "nbformat_minor": 1
}
