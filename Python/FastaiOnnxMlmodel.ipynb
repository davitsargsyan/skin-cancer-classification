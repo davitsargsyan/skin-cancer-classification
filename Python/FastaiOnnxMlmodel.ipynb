{
 "cells": [
  {
   "cell_type": "code",
   "execution_count": null,
   "metadata": {},
   "outputs": [],
   "source": [
    "# referenced from https://github.com/deepinsand/fastai_to_coreml"
   ]
  },
  {
   "cell_type": "code",
   "execution_count": null,
   "metadata": {},
   "outputs": [],
   "source": [
    "# Before training, call\n",
    "\n",
    "import fastai_to_coreml\n",
    "fastai_to_coreml.monkeypatch_fastai_for_onnx()"
   ]
  },
  {
   "cell_type": "code",
   "execution_count": null,
   "metadata": {},
   "outputs": [],
   "source": [
    "# After training, writing labels to a file:\n",
    "\n",
    "with open('labels.txt', 'w') as f:\n",
    "    for item in data.classes:\n",
    "        f.write(\"%s\\n\" % item)"
   ]
  },
  {
   "cell_type": "code",
   "execution_count": null,
   "metadata": {},
   "outputs": [],
   "source": [
    "# Then use onnx_coreml to convert\n",
    "\n",
    "from onnx_coreml import convert\n",
    "\n",
    "# Convert Pytorch model to onnx model & check if it is convertible\n",
    "onnx_model = fastai_to_coreml.convert_and_validate_to_onnx(\n",
    "    fastai_to_coreml.make_fastai_be_coreml_compatible(learn), \n",
    "    model_name, 299, input_names=['image'], output_names=['pose'])\n",
    "\n",
    "# Convert onnx model to Apple Core ML\n",
    "mlmodel = convert(onnx.load(model_name), image_input_names = ['image'], mode='classifier', class_labels=\"labels.txt\")\n",
    "...\n",
    "mlmodel.save(f'{model_name}.mlmodel'"
   ]
  }
 ],
 "metadata": {
  "kernelspec": {
   "display_name": "Python 3",
   "language": "python",
   "name": "python3"
  },
  "language_info": {
   "codemirror_mode": {
    "name": "ipython",
    "version": 3
   },
   "file_extension": ".py",
   "mimetype": "text/x-python",
   "name": "python",
   "nbconvert_exporter": "python",
   "pygments_lexer": "ipython3",
   "version": "3.7.6"
  }
 },
 "nbformat": 4,
 "nbformat_minor": 4
}
