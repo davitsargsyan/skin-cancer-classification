{
 "cells": [
  {
   "cell_type": "code",
   "execution_count": 1,
   "metadata": {},
   "outputs": [],
   "source": [
    "from fastai.vision import *\n",
    "import shutil\n",
    "from tqdm import tqdm\n",
    "import os, glob\n",
    "from os import listdir\n",
    "from os.path import isfile, join\n",
    "import random"
   ]
  },
  {
   "cell_type": "code",
   "execution_count": 2,
   "metadata": {},
   "outputs": [],
   "source": [
    "def data_aug_one(ex_img,prox,qnt,dir,vl):\n",
    "    tfms = get_transforms(zoom_crop(scale=(0.5,0.5), do_rand=False),rotate(degrees=30, p=0.5))\n",
    "    for lop in range(0,qnt):\n",
    "        image_name = vl + str(prox).zfill(8) + '.jpg'\n",
    "        dest = Path(dir)/image_name\n",
    "        prox = prox + 1\n",
    "        new_img = open_image(ex_img)\n",
    "        new_img_fin = new_img.apply_tfms(tfms[0], new_img, xtra={tfms[1][0].tfm: {\"size\": 448}}, size=448)\n",
    "        new_img_fin.save(dest)"
   ]
  },
  {
   "cell_type": "code",
   "execution_count": 3,
   "metadata": {},
   "outputs": [],
   "source": [
    "def delete_augmented(vl):\n",
    "    for filename in glob.glob(\"./data/train/{}/{}*\".format(vl,vl)):\n",
    "        os.remove(filename) "
   ]
  },
  {
   "cell_type": "code",
   "execution_count": 4,
   "metadata": {},
   "outputs": [
    {
     "name": "stderr",
     "output_type": "stream",
     "text": [
      "100%|██████████| 900/900 [01:44<00:00,  8.58it/s]\n",
      "100%|██████████| 616/616 [01:50<00:00,  5.56it/s]\n",
      "100%|██████████| 288/288 [01:51<00:00,  2.59it/s]\n",
      "100%|██████████| 183/183 [01:50<00:00,  1.66it/s]\n",
      "100%|██████████| 79/79 [01:52<00:00,  1.42s/it]\n",
      "100%|██████████| 64/64 [01:54<00:00,  1.80s/it]\n"
     ]
    }
   ],
   "source": [
    "for vl in ['mel','bkl','bcc','akiec','vasc','df']:\n",
    "    dir = './data/train/{}'.format(vl)\n",
    "    il = ImageList.from_folder(dir)\n",
    "    prox = 20\n",
    "    qnt = 5364//int(0.8*len(il))\n",
    "    for i in tqdm(range(int(0.7*len(il)))):\n",
    "        img = random.choice(il.items)\n",
    "        data_aug_one(img,prox,qnt,dir,vl)\n",
    "        prox = prox + qnt"
   ]
  },
  {
   "cell_type": "code",
   "execution_count": 5,
   "metadata": {},
   "outputs": [],
   "source": [
    "# for vl in ['mel','bkl','bcc','akiec','vasc','df']:\n",
    "#         delete_augmented(vl)"
   ]
  },
  {
   "cell_type": "code",
   "execution_count": null,
   "metadata": {},
   "outputs": [],
   "source": []
  }
 ],
 "metadata": {
  "kernelspec": {
   "display_name": "Python 3",
   "language": "python",
   "name": "python3"
  },
  "language_info": {
   "codemirror_mode": {
    "name": "ipython",
    "version": 3
   },
   "file_extension": ".py",
   "mimetype": "text/x-python",
   "name": "python",
   "nbconvert_exporter": "python",
   "pygments_lexer": "ipython3",
   "version": "3.7.4"
  }
 },
 "nbformat": 4,
 "nbformat_minor": 4
}
