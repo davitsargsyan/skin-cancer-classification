{
 "cells": [
  {
   "cell_type": "code",
   "execution_count": 1,
   "metadata": {},
   "outputs": [],
   "source": [
    "from fastai.vision import *\n",
    "from fastai.callbacks import *\n",
    "from pytorchcv.model_provider import get_model as ptcv_get_model\n",
    "from torchvision.models import *\n",
    "import pretrainedmodels\n",
    "from pathlib import Path\n",
    "from sklearn.metrics import confusion_matrix\n",
    "from sklearn.metrics import plot_confusion_matrix\n",
    "from sklearn.metrics import accuracy_score\n",
    "from sklearn.metrics import balanced_accuracy_score\n",
    "from sklearn.metrics import roc_auc_score\n",
    "from sklearn.metrics import f1_score\n",
    "from tqdm import tqdm\n"
   ]
  },
  {
   "cell_type": "code",
   "execution_count": 2,
   "metadata": {},
   "outputs": [],
   "source": [
    "def efficientnet_b0(pretrained=False):\n",
    "    return ptcv_get_model(\"efficientnet_b0\", pretrained=True).features\n",
    "\n",
    "def efficientnet_b1(pretrained=False):\n",
    "    return ptcv_get_model(\"efficientnet_b1\", pretrained=True).features\n",
    "\n",
    "def resnext50(pretrained=False):\n",
    "    return ptcv_get_model(\"resnext50_32x4d\", pretrained=True).features\n",
    "\n",
    "def resnext26(pretrained=False):\n",
    "    return ptcv_get_model(\"resnext26_32x4d\", pretrained=True).features"
   ]
  },
  {
   "cell_type": "code",
   "execution_count": 3,
   "metadata": {},
   "outputs": [],
   "source": [
    "def add_learners(model):\n",
    "    np.random.seed(2)\n",
    "    data = ImageDataBunch.from_folder(path,size=model_params[model]['size'], bs=model_params[model]['bs'])\n",
    "    learn = cnn_learner(data, model_params[model]['model'], pretrained=False,\n",
    "                    cut=noop, metrics=metrics, split_on=lambda m: (m[0][4], m[1]))\n",
    "    learn.load(model_params[model]['weights'])\n",
    "    return learn"
   ]
  },
  {
   "cell_type": "code",
   "execution_count": 4,
   "metadata": {},
   "outputs": [],
   "source": [
    "def get_missing_metrics(ENSAMBLE_LEARN):\n",
    "    for learn in list(zip(['RESNEXT50', 'EFFICIENT0', 'EFFICIENT1'], ENSAMBLE_LEARN[1:])):\n",
    "        val_preds, val_targs = learn[1].get_preds()\n",
    "        val_preds = torch.argmax(val_preds, axis=1)\n",
    "        print(learn[0], 'ACCURACY =', accuracy_score(val_targs, val_preds), 'F1 =', f1_score(val_targs,val_preds,average='macro'))"
   ]
  },
  {
   "cell_type": "code",
   "execution_count": 5,
   "metadata": {},
   "outputs": [],
   "source": [
    "def get_targets(learn):\n",
    "    _, targs = ENSAMBLE_LEARN[0].get_preds()\n",
    "    return targs"
   ]
  },
  {
   "cell_type": "code",
   "execution_count": 6,
   "metadata": {},
   "outputs": [],
   "source": [
    "def calculate_ensamble(ENSAMBLE_LEARN,targs):\n",
    "    preds = torch.zeros(2000,7)\n",
    "    for learn in ENSAMBLE_LEARN:\n",
    "        val_preds, _ = learn.get_preds()\n",
    "        preds += val_preds\n",
    "    preds /= len(ENSAMBLE_LEARN)\n",
    "    predictions = torch.argmax(preds, axis=1)\n",
    "    acc = accuracy_score(targs, predictions)\n",
    "    f1 = f1_score(targs,predictions,average='macro')\n",
    "    b_acc = balanced_accuracy_score(targs, predictions)\n",
    "    print('ACCURACY', acc, 'F1', f1, 'Balanced Accuracy' , b_acc)"
   ]
  },
  {
   "cell_type": "code",
   "execution_count": 7,
   "metadata": {},
   "outputs": [],
   "source": [
    "metrics=[FBeta('macro', beta=1), accuracy]\n",
    "MODELS = ['resnext26', 'resnext50','efficient0', 'efficient1']\n",
    "ENSAMBLE_LEARN = []       \n",
    "path = Path(\"./data\") \n",
    "model_params = {\n",
    "    'resnext50': {\n",
    "        'size': 299,\n",
    "        'bs': 10,\n",
    "        'model': resnext50,\n",
    "        'weights':'resnext50_notpr-0'\n",
    "    },\n",
    "    'resnext26': {\n",
    "        'size': 299,\n",
    "        'bs': 10,\n",
    "        'model': resnext26,\n",
    "        'weights':'best_model_nexttest-1'\n",
    "    },\n",
    "    'efficient0': {\n",
    "        'size': 448,\n",
    "        'bs': 10,\n",
    "        'model': efficientnet_b0,\n",
    "        'weights': 'best_model_effb0pr-0'\n",
    "    },\n",
    "    'efficient1': {\n",
    "        'size': 448,\n",
    "        'bs': 10,\n",
    "        'model': efficientnet_b1,\n",
    "        'weights': 'best_model_effb1-1'\n",
    "    }\n",
    "}\n"
   ]
  },
  {
   "cell_type": "code",
   "execution_count": 8,
   "metadata": {},
   "outputs": [],
   "source": [
    "for m in MODELS:\n",
    "    ENSAMBLE_LEARN.append(add_learners(m))"
   ]
  },
  {
   "cell_type": "code",
   "execution_count": 9,
   "metadata": {},
   "outputs": [
    {
     "data": {
      "text/html": [],
      "text/plain": [
       "<IPython.core.display.HTML object>"
      ]
     },
     "metadata": {},
     "output_type": "display_data"
    }
   ],
   "source": [
    "targs =get_targets(ENSAMBLE_LEARN[0])"
   ]
  },
  {
   "cell_type": "code",
   "execution_count": 10,
   "metadata": {},
   "outputs": [
    {
     "data": {
      "text/html": [],
      "text/plain": [
       "<IPython.core.display.HTML object>"
      ]
     },
     "metadata": {},
     "output_type": "display_data"
    },
    {
     "name": "stdout",
     "output_type": "stream",
     "text": [
      "RESNEXT50 ACCURACY = 0.9125 F1 = 0.8791974447472556\n"
     ]
    },
    {
     "data": {
      "text/html": [],
      "text/plain": [
       "<IPython.core.display.HTML object>"
      ]
     },
     "metadata": {},
     "output_type": "display_data"
    },
    {
     "name": "stdout",
     "output_type": "stream",
     "text": [
      "EFFICIENT0 ACCURACY = 0.9135 F1 = 0.8686517346015304\n"
     ]
    },
    {
     "data": {
      "text/html": [],
      "text/plain": [
       "<IPython.core.display.HTML object>"
      ]
     },
     "metadata": {},
     "output_type": "display_data"
    },
    {
     "name": "stdout",
     "output_type": "stream",
     "text": [
      "EFFICIENT1 ACCURACY = 0.9005 F1 = 0.8515617588302921\n"
     ]
    }
   ],
   "source": [
    "# For displaying the seperate metrices of models other than resnext26\n",
    "# (results of resnext26 are provided in Train.ipynb)\n",
    "get_missing_metrics(ENSAMBLE_LEARN)"
   ]
  },
  {
   "cell_type": "code",
   "execution_count": 11,
   "metadata": {},
   "outputs": [
    {
     "data": {
      "text/html": [],
      "text/plain": [
       "<IPython.core.display.HTML object>"
      ]
     },
     "metadata": {},
     "output_type": "display_data"
    },
    {
     "data": {
      "text/html": [],
      "text/plain": [
       "<IPython.core.display.HTML object>"
      ]
     },
     "metadata": {},
     "output_type": "display_data"
    },
    {
     "data": {
      "text/html": [],
      "text/plain": [
       "<IPython.core.display.HTML object>"
      ]
     },
     "metadata": {},
     "output_type": "display_data"
    },
    {
     "data": {
      "text/html": [],
      "text/plain": [
       "<IPython.core.display.HTML object>"
      ]
     },
     "metadata": {},
     "output_type": "display_data"
    },
    {
     "name": "stdout",
     "output_type": "stream",
     "text": [
      "ACCURACY 0.9275 F1 0.9010500832233845 Balanced Accuracy 0.8786365064439164\n"
     ]
    }
   ],
   "source": [
    "calculate_ensamble(ENSAMBLE_LEARN, targs)"
   ]
  },
  {
   "cell_type": "code",
   "execution_count": null,
   "metadata": {},
   "outputs": [],
   "source": []
  },
  {
   "cell_type": "code",
   "execution_count": null,
   "metadata": {},
   "outputs": [],
   "source": []
  }
 ],
 "metadata": {
  "kernelspec": {
   "display_name": "Python 3",
   "language": "python",
   "name": "python3"
  },
  "language_info": {
   "codemirror_mode": {
    "name": "ipython",
    "version": 3
   },
   "file_extension": ".py",
   "mimetype": "text/x-python",
   "name": "python",
   "nbconvert_exporter": "python",
   "pygments_lexer": "ipython3",
   "version": "3.7.4"
  }
 },
 "nbformat": 4,
 "nbformat_minor": 4
}
